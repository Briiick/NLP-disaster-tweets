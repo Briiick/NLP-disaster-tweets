{
 "cells": [
  {
   "cell_type": "markdown",
   "id": "03733be0-8cdc-46e2-808f-f17a3423a3e6",
   "metadata": {},
   "source": [
    "### Heavy Cleaning of Tweet Data with BERT\n",
    "\n",
    "Here, we test cleaning up our text data more heavily. We remove stopwords, punctuation, and other aspects of Tweets that might add too much noise to our model. We also lemmatize and stem our text."
   ]
  },
  {
   "cell_type": "code",
   "execution_count": 1,
   "id": "36db16e3-c199-4785-bbe1-32067814a6ae",
   "metadata": {},
   "outputs": [
    {
     "data": {
      "text/plain": [
       "<torch._C.Generator at 0x7ff77131d870>"
      ]
     },
     "execution_count": 1,
     "metadata": {},
     "output_type": "execute_result"
    }
   ],
   "source": [
    "import pandas as pd\n",
    "import numpy as np\n",
    "import matplotlib.pyplot as plt\n",
    "import seaborn as sns\n",
    "from tqdm import tqdm\n",
    "from sklearn.svm import SVC\n",
    "from sklearn import feature_extraction, preprocessing, linear_model, decomposition, model_selection, metrics, pipeline\n",
    "from sklearn.model_selection import GridSearchCV\n",
    "from sklearn.preprocessing import MinMaxScaler\n",
    "from sklearn.metrics import confusion_matrix\n",
    "from sklearn.metrics import plot_confusion_matrix\n",
    "from sklearn.metrics import classification_report\n",
    "from sklearn.metrics import accuracy_score\n",
    "from sklearn.metrics import roc_curve\n",
    "from sklearn.metrics import auc\n",
    "from sklearn.feature_extraction.text import TfidfVectorizer, CountVectorizer\n",
    "from sklearn.decomposition import TruncatedSVD\n",
    "from sklearn.linear_model import LogisticRegression\n",
    "from sklearn.model_selection import train_test_split\n",
    "from nltk import word_tokenize\n",
    "from pandas_profiling import ProfileReport\n",
    "import scikitplot as skplt\n",
    "import string\n",
    "import random\n",
    "import re\n",
    "import nltk\n",
    "from nltk.tokenize import word_tokenize\n",
    "from nltk.stem import WordNetLemmatizer \n",
    "from nltk.corpus import stopwords\n",
    "from nltk.sentiment import SentimentIntensityAnalyzer\n",
    "from wordcloud import WordCloud, STOPWORDS\n",
    "import transformers\n",
    "from transformers import BertModel, BertTokenizer, TFBertModel, TFBertForSequenceClassification, BertConfig, AdamW, get_linear_schedule_with_warmup\n",
    "import torch\n",
    "import tensorflow as tf\n",
    "import tensorflow_hub as hub\n",
    "from tensorflow import keras\n",
    "from tensorflow.keras.optimizers import SGD, Adam\n",
    "from tensorflow.keras.layers import Input, Embedding, LSTM, GRU, Bidirectional, Dense, Dropout, Conv1D, GlobalMaxPool1D\n",
    "from tensorflow.keras.models import Model, Sequential\n",
    "from tensorflow.keras.callbacks import ModelCheckpoint, EarlyStopping, Callback\n",
    "from tensorflow.keras.preprocessing.text import Tokenizer\n",
    "from tensorflow.keras.preprocessing.sequence import pad_sequences\n",
    "import bert\n",
    "import sys\n",
    "import os\n",
    "sys.path.append('../utility')\n",
    "import utils\n",
    "\n",
    "# seaborn settings\n",
    "sns.set_theme(style=\"whitegrid\")\n",
    "np.random.seed(1)\n",
    "torch.manual_seed(1)"
   ]
  },
  {
   "cell_type": "code",
   "execution_count": 2,
   "id": "443c022c-f56d-4a89-90c3-b146015134ac",
   "metadata": {},
   "outputs": [],
   "source": [
    "# download pickles\n",
    "train_df = pd.read_pickle(\"../data/pickles/clean_train_data.pkl\")\n",
    "test_df = pd.read_pickle(\"../data/pickles/clean_test_data.pkl\")"
   ]
  },
  {
   "cell_type": "markdown",
   "id": "108f2bdb-ca22-468d-94e8-9f82937e2898",
   "metadata": {},
   "source": [
    "### Heavy Text Cleaning\n",
    "\n",
    "We clean up the text a lot here."
   ]
  },
  {
   "cell_type": "code",
   "execution_count": 3,
   "id": "c53123c4-94e5-4cdf-b877-53ea52619881",
   "metadata": {},
   "outputs": [],
   "source": [
    "# function taken and modified \n",
    "# from https://towardsdatascience.com/cleaning-text-data-with-python-b69b47b97b76\n",
    "\n",
    "stopwords = set(STOPWORDS)\n",
    "stopwords.update([\"nan\"])\n",
    "\n",
    "def heavy_text_clean(x):\n",
    "    # first we lowercase everything\n",
    "    x = x.lower()\n",
    "    x = ' '.join([word for word in x.split(' ') if word not in stopwords])\n",
    "    # remove unicode characters\n",
    "    x = x.encode('ascii', 'ignore').decode()\n",
    "    x = re.sub(r'https*\\S+', ' ', x)\n",
    "    x = re.sub(r'http*\\S+', ' ', x)\n",
    "    # then use regex to remove @ symbols and hashtags\n",
    "    x = re.sub(r'@\\S', '', x)\n",
    "    x = re.sub(r'#\\S+', ' ', x)\n",
    "    x = re.sub(r'\\'\\w+', '', x)\n",
    "    x = re.sub('[%s]' % re.escape(string.punctuation), ' ', x)\n",
    "    x = re.sub(r'\\w*\\d+\\w*', '', x)\n",
    "    x = re.sub(r'\\s{2,}', ' ', x)\n",
    "    x = re.sub(r'\\s[^\\w\\s]\\s', '', x)\n",
    "    # remove single letters and numbers surrounded by space\n",
    "    x = re.sub(r'\\s[a-z]\\s|\\s[0-9]\\s', ' ', x)\n",
    "    return x"
   ]
  },
  {
   "cell_type": "code",
   "execution_count": 4,
   "id": "1c31a508-5780-443d-907c-5bf4c1481e3a",
   "metadata": {},
   "outputs": [],
   "source": [
    "train_df['cleaned_text'] = train_df.text.apply(heavy_text_clean)\n",
    "test_df['cleaned_text'] = test_df.text.apply(heavy_text_clean)"
   ]
  },
  {
   "cell_type": "code",
   "execution_count": 5,
   "id": "d8618329-24cf-4f2e-a441-709d8a82ff38",
   "metadata": {},
   "outputs": [
    {
     "data": {
      "text/plain": [
       "['look sports riots google see couches burned fr gotta go ',\n",
       " 'night blew rq',\n",
       " 'disaster averted police kill gunman device cinema ',\n",
       " 'hurricane mixxtail kinda tastes watermelon four loko ',\n",
       " 'irafrog ount wario wrecked again ',\n",
       " ' withering death album found undermine backyard cat inundated floor mustering cat food ',\n",
       " 'big baby climbed thing wheels io hawk his knee injury belt mr srk cook ur beautiful ass punishment ',\n",
       " 'mourning notices stabbing arson victims stir politics grief israel ',\n",
       " 'family mourns drowning toddler rare epilepsy bradley diebold suffered hundreds epileptic ',\n",
       " 'razyindapeg completely understandable considering trauma ',\n",
       " ' london warship exploded sailors recycling artillery cartridges ',\n",
       " 'punjab government flood relief platform realtime information inundation damages rescue efforts amp travel alerts',\n",
       " 'white people know worry tirelessly black black crime going mass murderer problem ',\n",
       " 'guy whistled parking lot amp help wind blew skirt getting car ',\n",
       " 'severe thunderstorm warning including midwest city ok del city ok choctaw ok pm cdt ',\n",
       " 'nc senate follows house legal action terrorism damages winston ',\n",
       " 'an hellfire got mistake boss got worse cause job oversee work boss change that ',\n",
       " 'recap nigerian refugees repatriated cameroon ',\n",
       " 'wounds kissed someone see disasters soul rather cracks pour love amazing ',\n",
       " 'will call text niggas bff amp boyfriend love boys death niggas hold attention ']"
      ]
     },
     "execution_count": 5,
     "metadata": {},
     "output_type": "execute_result"
    }
   ],
   "source": [
    "list(train_df['cleaned_text'].sample(20))"
   ]
  },
  {
   "cell_type": "markdown",
   "id": "e9297261-3cd6-44e0-ac50-8d49b905fa61",
   "metadata": {},
   "source": [
    "**Separating text and non-text columns:**"
   ]
  },
  {
   "cell_type": "code",
   "execution_count": 6,
   "id": "822f68ad-88b4-41e5-bfb9-a70de14df64b",
   "metadata": {},
   "outputs": [],
   "source": [
    "# create final dfs without text col\n",
    "final_train_df = train_df.drop(columns=['text', 'id'])\n",
    "final_test_df = test_df.drop(columns=['text', 'id'])"
   ]
  },
  {
   "cell_type": "code",
   "execution_count": 7,
   "id": "6b3932f1-4cfb-4349-a083-8c3f1696ee97",
   "metadata": {},
   "outputs": [],
   "source": [
    "# save labels\n",
    "train_labels = final_train_df['target']"
   ]
  },
  {
   "cell_type": "code",
   "execution_count": 8,
   "id": "eb8f9941-a411-4c8a-8ef2-7fa86c7cb818",
   "metadata": {},
   "outputs": [],
   "source": [
    "# separate clean text\n",
    "train_text = final_train_df['cleaned_text']\n",
    "test_text = final_test_df['cleaned_text']"
   ]
  },
  {
   "cell_type": "markdown",
   "id": "1f73d042-6a5d-4de6-b6c7-f77474d681d2",
   "metadata": {},
   "source": [
    "### Lemmatization"
   ]
  },
  {
   "cell_type": "markdown",
   "id": "29b0f433-4119-45a8-a296-a53a6b4b6058",
   "metadata": {},
   "source": [
    "This returns the lemma of the words in the Tweets, in other words, the base. So, for example, \"runs\" and \"running\" simply become \"run\". This can sometimes help a model interpret sentences better, so we test it here."
   ]
  },
  {
   "cell_type": "code",
   "execution_count": 9,
   "id": "7b06ba35-58b4-4c4b-accf-509278ed784c",
   "metadata": {},
   "outputs": [
    {
     "name": "stderr",
     "output_type": "stream",
     "text": [
      "[nltk_data] Downloading package punkt to\n",
      "[nltk_data]     /Users/alexanderbricken/nltk_data...\n",
      "[nltk_data]   Package punkt is already up-to-date!\n",
      "[nltk_data] Downloading package wordnet to\n",
      "[nltk_data]     /Users/alexanderbricken/nltk_data...\n",
      "[nltk_data]   Package wordnet is already up-to-date!\n"
     ]
    },
    {
     "data": {
      "text/plain": [
       "True"
      ]
     },
     "execution_count": 9,
     "metadata": {},
     "output_type": "execute_result"
    }
   ],
   "source": [
    "nltk.download('punkt')\n",
    "nltk.download('wordnet')"
   ]
  },
  {
   "cell_type": "code",
   "execution_count": 10,
   "id": "0396d794-74a7-47f4-9b6e-f883fdcb3bc2",
   "metadata": {},
   "outputs": [],
   "source": [
    "train_list = []\n",
    "for word in train_text:\n",
    "    tokens = word_tokenize(word)\n",
    "    lemmatizer = WordNetLemmatizer()\n",
    "    lemmatized = [lemmatizer.lemmatize(word) for word in tokens]\n",
    "    train_list.append(' '.join(lemmatized))\n",
    "\n",
    "test_list = []\n",
    "for word in test_text:\n",
    "    tokens = word_tokenize(word)\n",
    "    lemmatizer = WordNetLemmatizer()\n",
    "    lemmatized = [lemmatizer.lemmatize(word) for word in tokens]\n",
    "    test_list.append(' '.join(lemmatized))"
   ]
  },
  {
   "cell_type": "markdown",
   "id": "1fad6e2c-56d1-40ed-b972-fc70905692b9",
   "metadata": {},
   "source": [
    "### Tokenization"
   ]
  },
  {
   "cell_type": "markdown",
   "id": "487a49ea-d5df-49cc-bcaa-cccb343f3e41",
   "metadata": {},
   "source": [
    "I perform tokenization here as a basic way of including the data of my text into the machine learning model.\n",
    "\n",
    "Tokenization separates a piece of text into tokens. These tokens are words. It allows the text data to be turned into numbers that the machine learning model can read."
   ]
  },
  {
   "cell_type": "markdown",
   "id": "3b01b94b-0c73-42d5-b9bb-b97e7fea35d2",
   "metadata": {},
   "source": [
    "**For `cleaned_text` column, we tokenise using BertTokenizer:**"
   ]
  },
  {
   "cell_type": "code",
   "execution_count": 11,
   "id": "2327f1db-31ef-4477-9042-be2e91cec471",
   "metadata": {},
   "outputs": [],
   "source": [
    "# we use a pre-trained bert model to tokenize the text\n",
    "PRE_TRAINED_MODEL_NAME = 'bert-base-uncased'\n",
    "tokenizer = BertTokenizer.from_pretrained(PRE_TRAINED_MODEL_NAME)"
   ]
  },
  {
   "cell_type": "markdown",
   "id": "0a193805-68c3-4882-8e2c-101198ce8ad3",
   "metadata": {},
   "source": [
    "To start with, because BERT works with fixed-length sequences, we need to choose the maximum length of the sequences to best represent the model. By storing the length of each Tweet, we can do this and evaluate the coverage."
   ]
  },
  {
   "cell_type": "code",
   "execution_count": 12,
   "id": "afcf1346-b6d7-4f63-97bd-17493ade5dfb",
   "metadata": {},
   "outputs": [],
   "source": [
    "token_lens = []\n",
    "for txt in list(train_list):\n",
    "    tokens = tokenizer.encode(txt, max_length=512, truncation=True)\n",
    "    token_lens.append(len(tokens))"
   ]
  },
  {
   "cell_type": "code",
   "execution_count": 13,
   "id": "374de590-6dde-4568-8de5-6797bf90bd28",
   "metadata": {},
   "outputs": [
    {
     "data": {
      "image/png": "[encoded data removed]",
      "text/plain": [
       "<Figure size 360x360 with 1 Axes>"
      ]
     },
     "metadata": {},
     "output_type": "display_data"
    }
   ],
   "source": [
    "sns.displot(token_lens)\n",
    "plt.xlim([0, 100])\n",
    "plt.xlabel('Token count')\n",
    "plt.show()"
   ]
  },
  {
   "cell_type": "markdown",
   "id": "c39f5948-7bdb-4ad0-a541-3b63b0896e26",
   "metadata": {},
   "source": [
    "From this plot, we see the density drops off beyond 40. We set max_length to 40."
   ]
  },
  {
   "cell_type": "code",
   "execution_count": 14,
   "id": "eba9beef-5b2e-4fc5-ae37-ade1351194f3",
   "metadata": {},
   "outputs": [],
   "source": [
    "def bert_tokenizer(text):\n",
    "    encoding = tokenizer.encode_plus(\n",
    "    text,\n",
    "    max_length=40,\n",
    "    truncation=True,\n",
    "    add_special_tokens=True, # Add '[CLS]' and '[SEP]'\n",
    "    return_token_type_ids=False,\n",
    "    pad_to_max_length=True,\n",
    "    padding='max_length',\n",
    "    return_attention_mask=True,\n",
    "    return_tensors='pt',  # Return PyTorch tensors\n",
    "    )\n",
    "    return encoding['input_ids'][0], encoding['attention_mask'][0]"
   ]
  },
  {
   "cell_type": "code",
   "execution_count": 15,
   "id": "f67021f8-671b-4bb6-ab3e-f201bf6c277b",
   "metadata": {},
   "outputs": [],
   "source": [
    "max_length=40\n",
    "# train data tokenization\n",
    "train_tokenized_list = []\n",
    "train_attn_mask_list = []\n",
    "for text in list(train_list):\n",
    "    tokenized_text, attn_mask = bert_tokenizer(text)\n",
    "    train_tokenized_list.append(tokenized_text.numpy())\n",
    "    train_attn_mask_list.append(attn_mask.numpy())"
   ]
  },
  {
   "cell_type": "code",
   "execution_count": 16,
   "id": "ba659439-c3cd-4688-be6c-801406e7ffb6",
   "metadata": {},
   "outputs": [],
   "source": [
    "# test data tokenization\n",
    "test_tokenized_list = []\n",
    "test_attn_mask_list = []\n",
    "for text in list(test_list):\n",
    "    tokenized_text, attn_mask = bert_tokenizer(text)\n",
    "    test_tokenized_list.append(tokenized_text.numpy())\n",
    "    test_attn_mask_list.append(attn_mask.numpy())"
   ]
  },
  {
   "cell_type": "code",
   "execution_count": 17,
   "id": "5fd10d30-4410-44bd-917f-21f194dfcfd4",
   "metadata": {},
   "outputs": [],
   "source": [
    "train_tokenised_text_df = pd.DataFrame(train_tokenized_list)\n",
    "test_tokenised_text_df = pd.DataFrame(test_tokenized_list)"
   ]
  },
  {
   "cell_type": "markdown",
   "id": "dda7f7c6-b5cf-4861-879c-7e9f393a465c",
   "metadata": {},
   "source": [
    "Train test split:"
   ]
  },
  {
   "cell_type": "code",
   "execution_count": 18,
   "id": "2e11163c-d46d-4bee-ac9e-30501e8f2f54",
   "metadata": {},
   "outputs": [],
   "source": [
    "# train test split\n",
    "X_train, X_test, y_train, y_test, train_mask, val_mask = train_test_split(train_tokenised_text_df, train_labels, train_attn_mask_list, test_size=0.3, random_state=42)"
   ]
  },
  {
   "cell_type": "markdown",
   "id": "a97dd27b-38da-4582-b190-37e402d3623f",
   "metadata": {},
   "source": [
    "### BERT Modelling"
   ]
  },
  {
   "cell_type": "code",
   "execution_count": 19,
   "id": "c12c62bc-2b36-43c8-882a-5da58a27c176",
   "metadata": {},
   "outputs": [],
   "source": [
    "num_classes = len(train_labels.unique())"
   ]
  },
  {
   "cell_type": "markdown",
   "id": "3634fa68-abef-41b4-ad78-d931d90b02ed",
   "metadata": {},
   "source": [
    "I use the same pre-trained BERT model here. I also use 3 epochs to simulate some early stopping and prevent overfitting. I initially ran more epochs, but found 3 to be reasonable."
   ]
  },
  {
   "cell_type": "code",
   "execution_count": 20,
   "id": "387484f4-ac10-4333-b39d-83eff22a1f36",
   "metadata": {},
   "outputs": [
    {
     "name": "stderr",
     "output_type": "stream",
     "text": [
      "All model checkpoint layers were used when initializing TFBertForSequenceClassification.\n",
      "\n",
      "Some layers of TFBertForSequenceClassification were not initialized from the model checkpoint at bert-base-uncased and are newly initialized: ['classifier']\n",
      "You should probably TRAIN this model on a down-stream task to be able to use it for predictions and inference.\n"
     ]
    },
    {
     "name": "stdout",
     "output_type": "stream",
     "text": [
      "Model: \"tf_bert_for_sequence_classification\"\n",
      "_________________________________________________________________\n",
      "Layer (type)                 Output Shape              Param #   \n",
      "=================================================================\n",
      "bert (TFBertMainLayer)       multiple                  109482240 \n",
      "_________________________________________________________________\n",
      "dropout_37 (Dropout)         multiple                  0         \n",
      "_________________________________________________________________\n",
      "classifier (Dense)           multiple                  1538      \n",
      "=================================================================\n",
      "Total params: 109,483,778\n",
      "Trainable params: 109,483,778\n",
      "Non-trainable params: 0\n",
      "_________________________________________________________________\n",
      "\n",
      "Bert Model None\n"
     ]
    }
   ],
   "source": [
    "bert_model = TFBertForSequenceClassification.from_pretrained('bert-base-uncased', num_labels=num_classes)\n",
    "\n",
    "checkpoint_path = \"../models/heavy_tf_bert.ckpt\"\n",
    "checkpoint_dir = os.path.dirname(checkpoint_path)\n",
    "\n",
    "model_callback = tf.keras.callbacks.ModelCheckpoint(filepath=checkpoint_path,\n",
    "                                                 save_weights_only=True,\n",
    "                                                 verbose=1)\n",
    "\n",
    "print('\\nBert Model', bert_model.summary())\n",
    "\n",
    "loss = tf.keras.losses.SparseCategoricalCrossentropy(from_logits=True)\n",
    "metric = tf.keras.metrics.SparseCategoricalAccuracy('accuracy')\n",
    "optimizer = tf.keras.optimizers.Adam(learning_rate=2e-5,epsilon=1e-08)\n",
    "\n",
    "bert_model.compile(loss=loss,optimizer=optimizer,metrics=[metric])"
   ]
  },
  {
   "cell_type": "code",
   "execution_count": 21,
   "id": "63d79385-b2c6-4e75-957b-279567758e81",
   "metadata": {},
   "outputs": [
    {
     "name": "stdout",
     "output_type": "stream",
     "text": [
      "Epoch 1/3\n",
      "163/163 [==============================] - 1150s 7s/step - loss: 0.5629 - accuracy: 0.7216 - val_loss: 0.4426 - val_accuracy: 0.8045\n",
      "\n",
      "Epoch 00001: saving model to ../models/heavy_tf_bert.ckpt\n",
      "Epoch 2/3\n",
      "163/163 [==============================] - 1168s 7s/step - loss: 0.4036 - accuracy: 0.8290 - val_loss: 0.4281 - val_accuracy: 0.8143\n",
      "\n",
      "Epoch 00002: saving model to ../models/heavy_tf_bert.ckpt\n",
      "Epoch 3/3\n",
      "163/163 [==============================] - 1208s 7s/step - loss: 0.3122 - accuracy: 0.8801 - val_loss: 0.4723 - val_accuracy: 0.8000\n",
      "\n",
      "Epoch 00003: saving model to ../models/heavy_tf_bert.ckpt\n"
     ]
    }
   ],
   "source": [
    "history=bert_model.fit(X_train,\n",
    "                       y_train,\n",
    "                       batch_size=32,\n",
    "                       epochs=3,\n",
    "                       validation_data=(X_test, y_test),\n",
    "                       callbacks=[model_callback])"
   ]
  },
  {
   "cell_type": "code",
   "execution_count": 22,
   "id": "88822ed1-db79-4b06-a0a0-e1b7fc491edf",
   "metadata": {},
   "outputs": [
    {
     "data": {
      "image/png": "[encoded data removed]",
      "text/plain": [
       "<Figure size 1152x720 with 1 Axes>"
      ]
     },
     "metadata": {},
     "output_type": "display_data"
    }
   ],
   "source": [
    "plt.figure(figsize=(16, 10))\n",
    "plt.plot(history.history['accuracy'])\n",
    "plt.plot(history.history['val_accuracy'])\n",
    "plt.title('model accuracy')\n",
    "plt.ylabel('accuracy')\n",
    "plt.xlabel('epoch')\n",
    "plt.legend(['train', 'val'], loc='upper left')\n",
    "plt.show()"
   ]
  },
  {
   "cell_type": "code",
   "execution_count": 23,
   "id": "b9118548-52ba-4541-8206-b551b7912b86",
   "metadata": {},
   "outputs": [
    {
     "data": {
      "image/png": "[encoded data removed]",
      "text/plain": [
       "<Figure size 1152x720 with 1 Axes>"
      ]
     },
     "metadata": {},
     "output_type": "display_data"
    }
   ],
   "source": [
    "plt.figure(figsize=(16, 10))\n",
    "plt.plot(history.history['loss'])\n",
    "plt.plot(history.history['val_loss'])\n",
    "plt.title('model loss')\n",
    "plt.ylabel('loss')\n",
    "plt.xlabel('epoch')\n",
    "plt.legend(['train', 'val'], loc='upper left')\n",
    "plt.show()"
   ]
  },
  {
   "cell_type": "code",
   "execution_count": 24,
   "id": "2f46a4bf-fe10-4333-8eb4-7a7ab2a0c998",
   "metadata": {},
   "outputs": [
    {
     "name": "stdout",
     "output_type": "stream",
     "text": [
      "TFSequenceClassifierOutput(loss=None, logits=array([[-0.1285194 ,  0.2899389 ],\n",
      "       [-2.3529928 ,  2.2581232 ],\n",
      "       [-2.1840599 ,  2.045693  ],\n",
      "       ...,\n",
      "       [-1.8980908 ,  1.8573881 ],\n",
      "       [ 1.76792   , -1.408916  ],\n",
      "       [-0.21499553,  0.33526152]], dtype=float32), hidden_states=None, attentions=None)\n"
     ]
    }
   ],
   "source": [
    "# predictions\n",
    "test_pred = bert_model.predict(X_test)\n",
    "print(test_pred)"
   ]
  },
  {
   "cell_type": "code",
   "execution_count": 25,
   "id": "5180d488-bac7-4723-84a4-a8fb22e7f9f9",
   "metadata": {},
   "outputs": [
    {
     "name": "stdout",
     "output_type": "stream",
     "text": [
      "tf.Tensor(\n",
      "[[0.39688572 0.6031143 ]\n",
      " [0.00984287 0.9901571 ]\n",
      " [0.01434715 0.9856528 ]\n",
      " ...\n",
      " [0.0228547  0.9771453 ]\n",
      " [0.95995325 0.04004679]\n",
      " [0.36580473 0.6341952 ]], shape=(2235, 2), dtype=float32)\n"
     ]
    }
   ],
   "source": [
    "tensor_test_predictions = tf.math.softmax(test_pred.logits, axis=1)\n",
    "print(tensor_test_predictions)"
   ]
  },
  {
   "cell_type": "code",
   "execution_count": 26,
   "id": "55591e81-477c-4c86-89c7-5163d89d56cf",
   "metadata": {},
   "outputs": [],
   "source": [
    "test_predictions = [list(bert_model.config.id2label.keys())[i] for i in tf.math.argmax(tensor_test_predictions, axis=1).numpy()]"
   ]
  },
  {
   "cell_type": "code",
   "execution_count": 27,
   "id": "b7faf08b-5840-4e37-8937-886804cca668",
   "metadata": {},
   "outputs": [],
   "source": [
    "# model test function\n",
    "def eval_model(predictions):\n",
    "    print(accuracy_score(y_test, predictions))\n",
    "    # Compute fpr, tpr, thresholds and roc auc\n",
    "    fpr, tpr, thresholds = roc_curve(np.array(y_test), np.array(predictions))\n",
    "    roc_auc = auc(fpr, tpr)\n",
    "\n",
    "    # Plot ROC curve\n",
    "    plt.plot(fpr, tpr, label='ROC curve (area = %0.3f)' % roc_auc)\n",
    "    plt.plot([0, 1], [0, 1], 'k--')  # random predictions curve\n",
    "    plt.xlim([0.0, 1.0])\n",
    "    plt.ylim([0.0, 1.0])\n",
    "    plt.xlabel('False Positive Rate or (1 - Specifity)')\n",
    "    plt.ylabel('True Positive Rate or (Sensitivity)')\n",
    "    plt.title('Receiver Operating Characteristic')\n",
    "    plt.legend(loc=\"lower right\")\n",
    "    plt.show()\n",
    "    print(classification_report(y_test, np.array(predictions), target_names=[\"not disaster\", \"disaster\"]))"
   ]
  },
  {
   "cell_type": "code",
   "execution_count": 28,
   "id": "622a112d-ca9d-4e2a-af6e-715fee61bded",
   "metadata": {},
   "outputs": [
    {
     "name": "stdout",
     "output_type": "stream",
     "text": [
      "0.8\n"
     ]
    },
    {
     "data": {
      "image/png": "[encoded data removed]",
      "text/plain": [
       "<Figure size 432x288 with 1 Axes>"
      ]
     },
     "metadata": {},
     "output_type": "display_data"
    },
    {
     "name": "stdout",
     "output_type": "stream",
     "text": [
      "              precision    recall  f1-score   support\n",
      "\n",
      "not disaster       0.82      0.82      0.82      1271\n",
      "    disaster       0.77      0.77      0.77       964\n",
      "\n",
      "    accuracy                           0.80      2235\n",
      "   macro avg       0.80      0.80      0.80      2235\n",
      "weighted avg       0.80      0.80      0.80      2235\n",
      "\n"
     ]
    }
   ],
   "source": [
    "eval_model(test_predictions)"
   ]
  },
  {
   "cell_type": "code",
   "execution_count": 29,
   "id": "9edb55dd-77a1-4b1b-abaa-e243a3f48122",
   "metadata": {},
   "outputs": [
    {
     "name": "stdout",
     "output_type": "stream",
     "text": [
      "TFSequenceClassifierOutput(loss=None, logits=array([[-1.9080286 ,  1.8130229 ],\n",
      "       [-0.6776087 ,  0.8346604 ],\n",
      "       [-1.6416713 ,  1.6006675 ],\n",
      "       ...,\n",
      "       [-2.2559714 ,  2.0934513 ],\n",
      "       [-1.4136682 ,  1.3852328 ],\n",
      "       [-0.84401166,  0.9137889 ]], dtype=float32), hidden_states=None, attentions=None)\n"
     ]
    }
   ],
   "source": [
    "# actual test predictions\n",
    "real_pred = bert_model.predict(test_tokenised_text_df)\n",
    "print(real_pred)"
   ]
  },
  {
   "cell_type": "code",
   "execution_count": 30,
   "id": "dbaf27c9-928f-40d7-a88e-152d263b5bad",
   "metadata": {},
   "outputs": [
    {
     "name": "stdout",
     "output_type": "stream",
     "text": [
      "tf.Tensor(\n",
      "[[0.0236363  0.97636366]\n",
      " [0.18060276 0.8193973 ]\n",
      " [0.03760316 0.96239686]\n",
      " ...\n",
      " [0.01274962 0.9872503 ]\n",
      " [0.05738359 0.9426164 ]\n",
      " [0.14706601 0.85293394]], shape=(3263, 2), dtype=float32)\n"
     ]
    }
   ],
   "source": [
    "real_tensor_predictions = tf.math.softmax(real_pred.logits, axis=1)\n",
    "print(real_tensor_predictions)"
   ]
  },
  {
   "cell_type": "code",
   "execution_count": 31,
   "id": "8f7e331a-e306-4430-ae7f-3fc341231564",
   "metadata": {},
   "outputs": [],
   "source": [
    "# use argmax function to label\n",
    "real_predictions = [list(bert_model.config.id2label.keys())[i] for i in tf.math.argmax(real_tensor_predictions, axis=1).numpy()]"
   ]
  },
  {
   "cell_type": "markdown",
   "id": "db461fec-cf1b-42e9-ada4-b09259764614",
   "metadata": {},
   "source": [
    "### Preparing Kaggle Submission"
   ]
  },
  {
   "cell_type": "markdown",
   "id": "789a773a-2b7b-4dbc-9fe6-6628d2ed1b62",
   "metadata": {},
   "source": [
    "All we need to do now is turn our output probabilities of our machine learning model into boolean values and submit the predictions!"
   ]
  },
  {
   "cell_type": "code",
   "execution_count": 32,
   "id": "6c52fd3a-4e4e-45ea-a4cf-fe346a1f701e",
   "metadata": {},
   "outputs": [],
   "source": [
    "utils.kaggle_submit(real_predictions, 'submission-heavy.csv')"
   ]
  },
  {
   "cell_type": "markdown",
   "id": "98c346d7-c700-4628-aa30-da793da27bec",
   "metadata": {},
   "source": [
    "To submit, we use the Kaggle API and type the following:\n",
    "\n",
    "`kaggle competitions submit -c nlp-getting-started -f submission.csv -m \"Message\"`"
   ]
  }
 ],
 "metadata": {
  "kernelspec": {
   "display_name": "Python 3",
   "language": "python",
   "name": "python3"
  },
  "language_info": {
   "codemirror_mode": {
    "name": "ipython",
    "version": 3
   },
   "file_extension": ".py",
   "mimetype": "text/x-python",
   "name": "python",
   "nbconvert_exporter": "python",
   "pygments_lexer": "ipython3",
   "version": "3.8.8"
  }
 },
 "nbformat": 4,
 "nbformat_minor": 5
}
