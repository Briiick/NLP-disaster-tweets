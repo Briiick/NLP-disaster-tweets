{
 "cells": [
  {
   "cell_type": "markdown",
   "id": "b0016094-2b19-465e-b705-dcc22cf48dd6",
   "metadata": {},
   "source": [
    "### Light Cleaning of Tweet Data with BERT\n",
    "\n",
    "Here, we test keeping in a lot of contextual words within the Tweet, such as stopwords, punctuation, and other indicators. We don't lemmatize or stem as well."
   ]
  },
  {
   "cell_type": "code",
   "execution_count": 1,
   "id": "a13bde10-97ca-4fe3-a2fe-87f5b6f2a865",
   "metadata": {},
   "outputs": [
    {
     "data": {
      "text/plain": [
       "<torch._C.Generator at 0x7fb1e822d890>"
      ]
     },
     "execution_count": 1,
     "metadata": {},
     "output_type": "execute_result"
    }
   ],
   "source": [
    "import pandas as pd\n",
    "import numpy as np\n",
    "import matplotlib.pyplot as plt\n",
    "import seaborn as sns\n",
    "from tqdm import tqdm\n",
    "from sklearn.svm import SVC\n",
    "from sklearn import feature_extraction, preprocessing, linear_model, decomposition, model_selection, metrics, pipeline\n",
    "from sklearn.model_selection import GridSearchCV\n",
    "from sklearn.preprocessing import MinMaxScaler\n",
    "from sklearn.metrics import confusion_matrix\n",
    "from sklearn.metrics import plot_confusion_matrix\n",
    "from sklearn.metrics import classification_report\n",
    "from sklearn.metrics import accuracy_score\n",
    "from sklearn.metrics import roc_curve\n",
    "from sklearn.metrics import auc\n",
    "from sklearn.feature_extraction.text import TfidfVectorizer, CountVectorizer\n",
    "from sklearn.decomposition import TruncatedSVD\n",
    "from sklearn.linear_model import LogisticRegression\n",
    "from sklearn.model_selection import train_test_split\n",
    "from nltk import word_tokenize\n",
    "from pandas_profiling import ProfileReport\n",
    "import string\n",
    "import random\n",
    "import re\n",
    "import nltk\n",
    "from nltk.corpus import stopwords\n",
    "from nltk.sentiment import SentimentIntensityAnalyzer\n",
    "from wordcloud import WordCloud, STOPWORDS\n",
    "import transformers\n",
    "from transformers import BertModel, BertTokenizer, TFBertModel, TFBertForSequenceClassification, BertConfig, AdamW, get_linear_schedule_with_warmup\n",
    "import torch\n",
    "import tensorflow as tf\n",
    "import tensorflow_hub as hub\n",
    "from tensorflow import keras\n",
    "from tensorflow.keras.optimizers import SGD, Adam\n",
    "from tensorflow.keras.layers import Input, Embedding, LSTM, GRU, Bidirectional, Dense, Dropout, Conv1D, GlobalMaxPool1D\n",
    "from tensorflow.keras.models import Model, Sequential\n",
    "from tensorflow.keras.callbacks import ModelCheckpoint, EarlyStopping, Callback\n",
    "from tensorflow.keras.preprocessing.text import Tokenizer\n",
    "from tensorflow.keras.preprocessing.sequence import pad_sequences\n",
    "import bert\n",
    "import sys\n",
    "import os\n",
    "sys.path.append('../utility')\n",
    "import utils\n",
    "\n",
    "# seaborn settings\n",
    "sns.set_theme(style=\"whitegrid\")\n",
    "np.random.seed(1)\n",
    "torch.manual_seed(1)"
   ]
  },
  {
   "cell_type": "code",
   "execution_count": 2,
   "id": "f7e28275-815e-4b6d-a7d6-b31427bc8d6c",
   "metadata": {},
   "outputs": [],
   "source": [
    "# download pickles\n",
    "train_df = pd.read_pickle(\"../data/pickles/clean_train_data.pkl\")\n",
    "test_df = pd.read_pickle(\"../data/pickles/clean_test_data.pkl\")"
   ]
  },
  {
   "cell_type": "markdown",
   "id": "31eb4874-675e-465a-b0c5-e4ecd67b268d",
   "metadata": {},
   "source": [
    "### Light Text Cleaning\n",
    "\n",
    "We need to make sure the tweets we are using in our dataset are at least readable like sentences, without too many odd punctuation etc."
   ]
  },
  {
   "cell_type": "code",
   "execution_count": 3,
   "id": "87756fd5-9c3d-437d-b0ba-87002cef85d8",
   "metadata": {},
   "outputs": [],
   "source": [
    "# function taken and modified \n",
    "# from https://towardsdatascience.com/cleaning-text-data-with-python-b69b47b97b76\n",
    "\n",
    "def simple_text_clean(x):\n",
    "    # first we lowercase everything\n",
    "    x = x.lower()\n",
    "    # remove unicode characters\n",
    "    x = x.encode('ascii', 'ignore').decode()\n",
    "    x = re.sub(r'https*\\S+', ' ', x)\n",
    "    x = re.sub(r'http*\\S+', ' ', x)\n",
    "    # then use regex to remove @ symbols and hashtags\n",
    "    #x = re.sub(r'@\\S', '', x)\n",
    "    #x = re.sub(r'#\\S+', ' ', x)\n",
    "    x = re.sub(r'\\'\\w+', '', x)\n",
    "    #x = re.sub('[%s]' % re.escape(string.punctuation), ' ', x)\n",
    "    x = re.sub(r'\\w*\\d+\\w*', '', x)\n",
    "    x = re.sub(r'\\s{2,}', ' ', x)\n",
    "    x = re.sub(r'\\s[^\\w\\s]\\s', '', x)\n",
    "    return x"
   ]
  },
  {
   "cell_type": "code",
   "execution_count": 4,
   "id": "782eda5b-ea9d-4ac3-ae5f-8aaec0c5c7ad",
   "metadata": {},
   "outputs": [],
   "source": [
    "train_df['cleaned_text'] = train_df.text.apply(simple_text_clean)\n",
    "test_df['cleaned_text'] = test_df.text.apply(simple_text_clean)"
   ]
  },
  {
   "cell_type": "code",
   "execution_count": 5,
   "id": "1e3dc1fe-0f15-40b4-95cc-5643af7ef456",
   "metadata": {},
   "outputs": [
    {
     "data": {
      "text/plain": [
       "['all you have to do is look up sports riots on google and you see more than couches being burned.. you fr gotta go ',\n",
       " 'this night just blew up rq',\n",
       " \"disaster averted: police kill gunman with device' at cinema \",\n",
       " 'the hurricane mixxtail kinda tastes like the watermelon four loko. ???????? @',\n",
       " '@kirafrog @mount_wario did you get wrecked again?',\n",
       " '[withering] to death. is an album found when he [undermine]d his backyard because his cat [inundated] the floor [mustering] cat food.',\n",
       " 'our big baby climbed up on this thing on wheels-(io hawk)!his knee injury!!!!! where my belt?mr srk cook ur beautiful ass for punishment!',\n",
       " 'mourning notices for stabbing arson victims stir politics of grief in israel ',\n",
       " 'family mourns drowning oftoddler with rare epilepsy: bradley diebold suffered hundreds of epileptic_ ',\n",
       " '@crazyindapegcompletely understandable considering the trauma #ptsdchat',\n",
       " '#news #science london warship exploded in because sailors were recycling artillery cartridges... #life #tech',\n",
       " 'punjab government flood relief platform: realtime information on inundation damages rescue efforts &amp; travel alerts',\n",
       " 'white people i know you worry tirelessly about black on black crime but what are you going to do about your mass murderer problem?',\n",
       " 'some guy whistled at me in the parking lot &amp; it did not help that the wind blew my skirt up getting in the car ??',\n",
       " 'severe thunderstorm warning including midwest city ok del city ok choctaw ok untilpm cdt ',\n",
       " 'nc senate follows house on legal action on terrorism damageswinston ',\n",
       " '@ian_hellfire i got it for the mistake but boss got it worse cause their job was to oversee my work. boss didn change after that...',\n",
       " 'recap/ nigerian refugees repatriated from cameroon ',\n",
       " 'having your wounds kissed by someone who doesn see them as disasters in your soul but rather cracks to pour their love into is amazing.',\n",
       " 'i will only call or text niggas my bff &amp; my boyfriend ???? i love my boys to death. no other niggas can hold my attention like them ??']"
      ]
     },
     "execution_count": 5,
     "metadata": {},
     "output_type": "execute_result"
    }
   ],
   "source": [
    "list(train_df['cleaned_text'].sample(20))"
   ]
  },
  {
   "cell_type": "markdown",
   "id": "6d2dddd9-bac8-4af7-9d00-d2d6f3e1b281",
   "metadata": {},
   "source": [
    "### Tokenization"
   ]
  },
  {
   "cell_type": "markdown",
   "id": "6c45062e-a28e-4c94-8d1c-ac9d2408d2b0",
   "metadata": {},
   "source": [
    "I perform tokenization here as a basic way of including the data of my text into the machine learning model.\n",
    "\n",
    "Tokenization separates a piece of text into tokens. These tokens are words. It allows the text data to be turned into numbers that the machine learning model can read.\n",
    "\n",
    "**Separating text and non-text columns for tokenization:**"
   ]
  },
  {
   "cell_type": "code",
   "execution_count": 9,
   "id": "a3831878-6bc9-46d8-9262-64600f9c94bb",
   "metadata": {},
   "outputs": [],
   "source": [
    "# create final dfs without text col\n",
    "final_train_df = train_df.drop(columns=['text', 'id'])\n",
    "final_test_df = test_df.drop(columns=['text', 'id'])"
   ]
  },
  {
   "cell_type": "code",
   "execution_count": 10,
   "id": "a34051d4-39b1-44c0-97cc-422d85acf73d",
   "metadata": {},
   "outputs": [],
   "source": [
    "# save labels\n",
    "train_labels = final_train_df['target']"
   ]
  },
  {
   "cell_type": "code",
   "execution_count": 11,
   "id": "6045908b-dc52-4aca-908c-e55a6cbd6d39",
   "metadata": {},
   "outputs": [],
   "source": [
    "# separate clean text\n",
    "train_text = final_train_df['cleaned_text']\n",
    "test_text = final_test_df['cleaned_text']"
   ]
  },
  {
   "cell_type": "markdown",
   "id": "8818a1a0-88f6-426a-8532-f9a7711ebaf5",
   "metadata": {},
   "source": [
    "**For `cleaned_text` column, we tokenise using BertTokenizer:**"
   ]
  },
  {
   "cell_type": "code",
   "execution_count": 12,
   "id": "5851dcc0-963d-4deb-98c4-d329f521f32a",
   "metadata": {},
   "outputs": [],
   "source": [
    "# we use a pre-trained bert model to tokenize the text\n",
    "PRE_TRAINED_MODEL_NAME = 'bert-base-uncased'\n",
    "tokenizer = BertTokenizer.from_pretrained(PRE_TRAINED_MODEL_NAME)"
   ]
  },
  {
   "cell_type": "markdown",
   "id": "66d88b12-1f17-42ae-af7e-39cc3fdec37f",
   "metadata": {},
   "source": [
    "To start with, because BERT works with fixed-length sequences, we need to choose the maximum length of the sequences to best represent the model. By storing the length of each Tweet, we can do this and evaluate the coverage."
   ]
  },
  {
   "cell_type": "code",
   "execution_count": 13,
   "id": "9c31c25d-762c-40c1-bc03-e510e2ad2b57",
   "metadata": {},
   "outputs": [],
   "source": [
    "token_lens = []\n",
    "for txt in list(train_text):\n",
    "    tokens = tokenizer.encode(txt, max_length=512, truncation=True)\n",
    "    token_lens.append(len(tokens))"
   ]
  },
  {
   "cell_type": "code",
   "execution_count": 14,
   "id": "9605edf1-69ca-4800-b750-9e9d0c3fec5e",
   "metadata": {},
   "outputs": [
    {
     "data": {
      "image/png": "[encoded data removed]",
      "text/plain": [
       "<Figure size 360x360 with 1 Axes>"
      ]
     },
     "metadata": {},
     "output_type": "display_data"
    }
   ],
   "source": [
    "sns.displot(token_lens)\n",
    "plt.xlim([0, 100])\n",
    "plt.xlabel('Token count')\n",
    "plt.show()"
   ]
  },
  {
   "cell_type": "markdown",
   "id": "88d9886e-ada5-48fb-8048-0a77c641d3bb",
   "metadata": {},
   "source": [
    "From this plot, we see the density drops off beyond 50. To be safe, we se the max length to 55."
   ]
  },
  {
   "cell_type": "code",
   "execution_count": 20,
   "id": "9e5189f4-eb57-4102-8d29-08eab650100e",
   "metadata": {},
   "outputs": [],
   "source": [
    "def bert_tokenizer(text):\n",
    "    encoding = tokenizer.encode_plus(\n",
    "    text,\n",
    "    max_length=55,\n",
    "    truncation=True,\n",
    "    add_special_tokens=True, # Add '[CLS]' and '[SEP]'\n",
    "    return_token_type_ids=False,\n",
    "    padding='max_length',\n",
    "    return_attention_mask=True,\n",
    "    return_tensors='pt',  # Return PyTorch tensors\n",
    "    )\n",
    "    return encoding['input_ids'][0], encoding['attention_mask'][0]"
   ]
  },
  {
   "cell_type": "code",
   "execution_count": 21,
   "id": "3ab31f89-1a51-4e4a-b571-673f3c58c2db",
   "metadata": {},
   "outputs": [],
   "source": [
    "max_length=55\n",
    "# train data tokenization\n",
    "train_tokenized_list = []\n",
    "train_attn_mask_list = []\n",
    "for text in list(train_text):\n",
    "    tokenized_text, attn_mask = bert_tokenizer(text)\n",
    "    train_tokenized_list.append(tokenized_text.numpy())\n",
    "    train_attn_mask_list.append(attn_mask.numpy())"
   ]
  },
  {
   "cell_type": "code",
   "execution_count": 22,
   "id": "27227951-0008-432a-ab04-e682603027e4",
   "metadata": {},
   "outputs": [],
   "source": [
    "# test data tokenization\n",
    "test_tokenized_list = []\n",
    "test_attn_mask_list = []\n",
    "for text in list(test_text):\n",
    "    tokenized_text, attn_mask = bert_tokenizer(text)\n",
    "    test_tokenized_list.append(tokenized_text.numpy())\n",
    "    test_attn_mask_list.append(attn_mask.numpy())"
   ]
  },
  {
   "cell_type": "code",
   "execution_count": 23,
   "id": "cc3bb977-b03c-4056-96ed-56e3d35b8464",
   "metadata": {},
   "outputs": [],
   "source": [
    "train_tokenised_text_df = pd.DataFrame(train_tokenized_list)\n",
    "test_tokenised_text_df = pd.DataFrame(test_tokenized_list)"
   ]
  },
  {
   "cell_type": "code",
   "execution_count": 24,
   "id": "83482909-8616-4c83-912b-95f4d6ca5f82",
   "metadata": {},
   "outputs": [],
   "source": [
    "# train test split\n",
    "X_train, X_test, y_train, y_test, train_mask, test_mask = train_test_split(train_tokenised_text_df, train_labels, train_attn_mask_list, test_size=0.3, random_state=42)"
   ]
  },
  {
   "cell_type": "code",
   "execution_count": 25,
   "id": "8745190b-e3e1-40e4-a78c-bfb25d9a2ea5",
   "metadata": {},
   "outputs": [
    {
     "name": "stdout",
     "output_type": "stream",
     "text": [
      "X_train input shape (5212, 55) X_test input shape (2235, 55)\n",
      "Train label shape (5212,) Test label shape (2235,)\n"
     ]
    }
   ],
   "source": [
    "print(f'X_train input shape {X_train.shape} X_test input shape {X_test.shape}\\nTrain label \\\n",
    "shape {y_train.shape} Test label shape {y_test.shape}')"
   ]
  },
  {
   "cell_type": "markdown",
   "id": "ec263278-b0e2-4731-981c-e8353b7e41cb",
   "metadata": {},
   "source": [
    "### BERT Modelling"
   ]
  },
  {
   "cell_type": "markdown",
   "id": "1dadc2dc-f504-44e9-8df1-dcfd0a379f61",
   "metadata": {},
   "source": [
    "We use a pretrained BERT model here. This is for efficiency."
   ]
  },
  {
   "cell_type": "code",
   "execution_count": 26,
   "id": "d0fa7732-4c39-4934-aa6a-52d3251cff54",
   "metadata": {},
   "outputs": [],
   "source": [
    "num_classes = len(train_labels.unique())"
   ]
  },
  {
   "cell_type": "code",
   "execution_count": 31,
   "id": "f42caf9b-cd65-4542-880c-188996c222b0",
   "metadata": {},
   "outputs": [
    {
     "name": "stderr",
     "output_type": "stream",
     "text": [
      "All model checkpoint layers were used when initializing TFBertForSequenceClassification.\n",
      "\n",
      "Some layers of TFBertForSequenceClassification were not initialized from the model checkpoint at bert-base-uncased and are newly initialized: ['classifier']\n",
      "You should probably TRAIN this model on a down-stream task to be able to use it for predictions and inference.\n"
     ]
    },
    {
     "name": "stdout",
     "output_type": "stream",
     "text": [
      "Model: \"tf_bert_for_sequence_classification_1\"\n",
      "_________________________________________________________________\n",
      "Layer (type)                 Output Shape              Param #   \n",
      "=================================================================\n",
      "bert (TFBertMainLayer)       multiple                  109482240 \n",
      "_________________________________________________________________\n",
      "dropout_75 (Dropout)         multiple                  0         \n",
      "_________________________________________________________________\n",
      "classifier (Dense)           multiple                  1538      \n",
      "=================================================================\n",
      "Total params: 109,483,778\n",
      "Trainable params: 109,483,778\n",
      "Non-trainable params: 0\n",
      "_________________________________________________________________\n",
      "\n",
      "Bert Model None\n"
     ]
    }
   ],
   "source": [
    "bert_model = TFBertForSequenceClassification.from_pretrained('bert-base-uncased', num_labels=num_classes)\n",
    "\n",
    "checkpoint_path = \"../models/light_tf_bert.ckpt\"\n",
    "checkpoint_dir = os.path.dirname(checkpoint_path)\n",
    "\n",
    "model_callback = tf.keras.callbacks.ModelCheckpoint(filepath=checkpoint_path,\n",
    "                                                 save_weights_only=True,\n",
    "                                                 verbose=1)\n",
    "\n",
    "print('\\nBert Model', bert_model.summary())\n",
    "\n",
    "loss = tf.keras.losses.SparseCategoricalCrossentropy(from_logits=True)\n",
    "metric = tf.keras.metrics.SparseCategoricalAccuracy('accuracy')\n",
    "optimizer = tf.keras.optimizers.Adam(learning_rate=2e-5,epsilon=1e-08)\n",
    "\n",
    "bert_model.compile(loss=loss,optimizer=optimizer,metrics=[metric])"
   ]
  },
  {
   "cell_type": "markdown",
   "id": "be71dbbe-0744-4d1a-8653-0ade9eb9a33b",
   "metadata": {},
   "source": [
    "After testing the model on 10 epochs (which took a long time), it was shown to overfit after the second epoch. Thus, the number of epochs is restricted to 2 as a measure of early stopping."
   ]
  },
  {
   "cell_type": "code",
   "execution_count": 32,
   "id": "3abb702c-f9bc-4ba1-9fe0-2c55dc9c27f9",
   "metadata": {},
   "outputs": [
    {
     "name": "stdout",
     "output_type": "stream",
     "text": [
      "Epoch 1/4\n",
      "163/163 [==============================] - 854s 5s/step - loss: 0.5444 - accuracy: 0.7228 - val_loss: 0.3860 - val_accuracy: 0.8345\n",
      "Epoch 2/4\n",
      "163/163 [==============================] - 860s 5s/step - loss: 0.3634 - accuracy: 0.8625 - val_loss: 0.3941 - val_accuracy: 0.8318\n",
      "Epoch 3/4\n",
      "163/163 [==============================] - 880s 5s/step - loss: 0.2819 - accuracy: 0.8970 - val_loss: 0.4363 - val_accuracy: 0.8081\n",
      "Epoch 4/4\n",
      "163/163 [==============================] - 818s 5s/step - loss: 0.2034 - accuracy: 0.9330 - val_loss: 0.5997 - val_accuracy: 0.7852\n"
     ]
    }
   ],
   "source": [
    "history=bert_model.fit(X_train,\n",
    "                       y_train,\n",
    "                       batch_size=32,\n",
    "                       epochs=2,\n",
    "                       validation_data=(X_test, y_test),\n",
    "                       callbacks=[model_callback])"
   ]
  },
  {
   "cell_type": "code",
   "execution_count": 37,
   "id": "7df56dd7-e717-4adc-b192-d40e7fe28208",
   "metadata": {},
   "outputs": [
    {
     "data": {
      "image/png": "[encoded data removed]",
      "text/plain": [
       "<Figure size 1152x720 with 1 Axes>"
      ]
     },
     "metadata": {},
     "output_type": "display_data"
    }
   ],
   "source": [
    "plt.figure(figsize=(16, 10))\n",
    "plt.plot(history.history['accuracy'])\n",
    "plt.plot(history.history['val_accuracy'])\n",
    "plt.title('model accuracy')\n",
    "plt.ylabel('accuracy')\n",
    "plt.xlabel('epoch')\n",
    "plt.legend(['train', 'val'], loc='upper left')\n",
    "plt.show()"
   ]
  },
  {
   "cell_type": "code",
   "execution_count": 38,
   "id": "a3aec61c-f1c6-4f1c-8154-4fa53d8aea69",
   "metadata": {},
   "outputs": [
    {
     "data": {
      "image/png": "[encoded data removed]",
      "text/plain": [
       "<Figure size 1152x720 with 1 Axes>"
      ]
     },
     "metadata": {},
     "output_type": "display_data"
    }
   ],
   "source": [
    "plt.figure(figsize=(16, 10))\n",
    "plt.plot(history.history['loss'])\n",
    "plt.plot(history.history['val_loss'])\n",
    "plt.title('model loss')\n",
    "plt.ylabel('loss')\n",
    "plt.xlabel('epoch')\n",
    "plt.legend(['train', 'val'], loc='upper left')\n",
    "plt.show()"
   ]
  },
  {
   "cell_type": "code",
   "execution_count": 39,
   "id": "9fb40b77-1abf-4d5e-987f-8a6b480c0f7b",
   "metadata": {},
   "outputs": [],
   "source": [
    "### if you want to access the model without retraining\n",
    "# checkpoint_path = \"../models/light_tf_bert.ckpt\"\n",
    "# trained_model = TFBertForSequenceClassification.from_pretrained('bert-base-uncased',num_labels=2)\n",
    "# trained_model.compile(loss=loss,optimizer=optimizer, metrics=[metric])"
   ]
  },
  {
   "cell_type": "code",
   "execution_count": 41,
   "id": "70af0c59-6101-4b3a-bc69-96ad3bf8d97a",
   "metadata": {},
   "outputs": [
    {
     "name": "stdout",
     "output_type": "stream",
     "text": [
      "TFSequenceClassifierOutput(loss=None, logits=array([[ 0.9218707, -0.6977585],\n",
      "       [-2.2679389,  2.9030554],\n",
      "       [-2.1937144,  2.7514935],\n",
      "       ...,\n",
      "       [-1.8326094,  2.6504776],\n",
      "       [ 1.3864447, -1.6284075],\n",
      "       [-0.7670491,  1.7233028]], dtype=float32), hidden_states=None, attentions=None)\n"
     ]
    }
   ],
   "source": [
    "# predictions\n",
    "test_pred = bert_model.predict(X_test)\n",
    "print(test_pred)"
   ]
  },
  {
   "cell_type": "code",
   "execution_count": 42,
   "id": "7888c480-fb7e-49da-aed9-ac63dea4b409",
   "metadata": {},
   "outputs": [
    {
     "name": "stdout",
     "output_type": "stream",
     "text": [
      "tf.Tensor(\n",
      "[[0.83474404 0.16525604]\n",
      " [0.00564685 0.9943532 ]\n",
      " [0.00706714 0.9929329 ]\n",
      " ...\n",
      " [0.01117225 0.9888277 ]\n",
      " [0.95324063 0.0467594 ]\n",
      " [0.07653733 0.92346275]], shape=(2235, 2), dtype=float32)\n"
     ]
    }
   ],
   "source": [
    "tensor_test_predictions = tf.math.softmax(test_pred.logits, axis=1)\n",
    "print(tensor_test_predictions)"
   ]
  },
  {
   "cell_type": "code",
   "execution_count": 43,
   "id": "90571ac8-ece8-4ee0-b5e7-e836e8159a73",
   "metadata": {},
   "outputs": [],
   "source": [
    "test_predictions = [list(bert_model.config.id2label.keys())[i] for i in tf.math.argmax(tensor_test_predictions, axis=1).numpy()]"
   ]
  },
  {
   "cell_type": "code",
   "execution_count": 44,
   "id": "0613c343-7d57-428e-878e-615fb132384b",
   "metadata": {},
   "outputs": [],
   "source": [
    "# model test function\n",
    "def eval_model(predictions):\n",
    "    print(accuracy_score(y_test, predictions))\n",
    "    # Compute fpr, tpr, thresholds and roc auc\n",
    "    fpr, tpr, thresholds = roc_curve(np.array(y_test), np.array(predictions))\n",
    "    roc_auc = auc(fpr, tpr)\n",
    "\n",
    "    # Plot ROC curve\n",
    "    plt.plot(fpr, tpr, label='ROC curve (area = %0.3f)' % roc_auc)\n",
    "    plt.plot([0, 1], [0, 1], 'k--')  # random predictions curve\n",
    "    plt.xlim([0.0, 1.0])\n",
    "    plt.ylim([0.0, 1.0])\n",
    "    plt.xlabel('False Positive Rate or (1 - Specifity)')\n",
    "    plt.ylabel('True Positive Rate or (Sensitivity)')\n",
    "    plt.title('Receiver Operating Characteristic')\n",
    "    plt.legend(loc=\"lower right\")\n",
    "    plt.show()\n",
    "    print(classification_report(y_test, np.array(predictions), target_names=[\"not disaster\", \"disaster\"]))"
   ]
  },
  {
   "cell_type": "code",
   "execution_count": 45,
   "id": "e854a7d3-411e-4283-8b89-37a4e73c06c0",
   "metadata": {},
   "outputs": [
    {
     "name": "stdout",
     "output_type": "stream",
     "text": [
      "0.785234899328859\n"
     ]
    },
    {
     "data": {
      "image/png": "[encoded data removed]",
      "text/plain": [
       "<Figure size 432x288 with 1 Axes>"
      ]
     },
     "metadata": {},
     "output_type": "display_data"
    },
    {
     "name": "stdout",
     "output_type": "stream",
     "text": [
      "              precision    recall  f1-score   support\n",
      "\n",
      "not disaster       0.84      0.77      0.80      1271\n",
      "    disaster       0.72      0.81      0.76       964\n",
      "\n",
      "    accuracy                           0.79      2235\n",
      "   macro avg       0.78      0.79      0.78      2235\n",
      "weighted avg       0.79      0.79      0.79      2235\n",
      "\n"
     ]
    }
   ],
   "source": [
    "eval_model(test_predictions)"
   ]
  },
  {
   "cell_type": "code",
   "execution_count": 46,
   "id": "f572e315-d832-475a-b719-f2d21ce4985d",
   "metadata": {},
   "outputs": [
    {
     "name": "stdout",
     "output_type": "stream",
     "text": [
      "TFSequenceClassifierOutput(loss=None, logits=array([[-2.1371632,  2.688756 ],\n",
      "       [-2.0297184,  2.6197913],\n",
      "       [-2.0603564,  2.676914 ],\n",
      "       ...,\n",
      "       [-2.1950448,  2.819219 ],\n",
      "       [-1.083955 ,  1.9225634],\n",
      "       [-2.0043676,  2.7361658]], dtype=float32), hidden_states=None, attentions=None)\n"
     ]
    }
   ],
   "source": [
    "# actual test predictions\n",
    "real_pred = bert_model.predict(test_tokenised_text_df)\n",
    "print(real_pred)"
   ]
  },
  {
   "cell_type": "code",
   "execution_count": 47,
   "id": "d6fe9bad-8831-41b9-bb31-98689fe557da",
   "metadata": {},
   "outputs": [
    {
     "name": "stdout",
     "output_type": "stream",
     "text": [
      "tf.Tensor(\n",
      "[[0.00795538 0.99204457]\n",
      " [0.00947565 0.99052435]\n",
      " [0.00868642 0.99131364]\n",
      " ...\n",
      " [0.00659869 0.99340135]\n",
      " [0.04713226 0.9528677 ]\n",
      " [0.00865837 0.99134165]], shape=(3263, 2), dtype=float32)\n"
     ]
    }
   ],
   "source": [
    "real_tensor_predictions = tf.math.softmax(real_pred.logits, axis=1)\n",
    "print(real_tensor_predictions)"
   ]
  },
  {
   "cell_type": "code",
   "execution_count": 228,
   "id": "034eaa04-1697-46a6-b7c6-ca1e41e9464f",
   "metadata": {},
   "outputs": [],
   "source": [
    "# use argmax function to label\n",
    "real_predictions = [list(bert_model.config.id2label.keys())[i] for i in tf.math.argmax(real_tensor_predictions, axis=1).numpy()]"
   ]
  },
  {
   "cell_type": "markdown",
   "id": "997a2976-be57-4b86-bcea-3d5097966542",
   "metadata": {},
   "source": [
    "### Preparing Kaggle Submission"
   ]
  },
  {
   "cell_type": "markdown",
   "id": "2470e4f1-1f0e-4300-bd96-28758f10e58e",
   "metadata": {},
   "source": [
    "All we need to do now is turn our output probabilities of our machine learning model into boolean values and submit the predictions!"
   ]
  },
  {
   "cell_type": "code",
   "execution_count": null,
   "id": "b149984d-1e07-46d7-a07d-eb3502a1f349",
   "metadata": {},
   "outputs": [],
   "source": [
    "utils.kaggle_submit(real_predictions, 'submission4.csv')"
   ]
  },
  {
   "cell_type": "markdown",
   "id": "4e155c3c-d4bb-4446-aed7-ecebcbf28984",
   "metadata": {},
   "source": [
    "To submit, we use the Kaggle API and type the following:\n",
    "\n",
    "`kaggle competitions submit -c nlp-getting-started -f submission.csv -m \"Message\"`"
   ]
  }
 ],
 "metadata": {
  "kernelspec": {
   "display_name": "Python 3",
   "language": "python",
   "name": "python3"
  },
  "language_info": {
   "codemirror_mode": {
    "name": "ipython",
    "version": 3
   },
   "file_extension": ".py",
   "mimetype": "text/x-python",
   "name": "python",
   "nbconvert_exporter": "python",
   "pygments_lexer": "ipython3",
   "version": "3.8.8"
  }
 },
 "nbformat": 4,
 "nbformat_minor": 5
}
