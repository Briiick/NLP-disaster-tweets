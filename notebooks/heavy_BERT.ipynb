{
 "cells": [
  {
   "cell_type": "markdown",
   "id": "03733be0-8cdc-46e2-808f-f17a3423a3e6",
   "metadata": {},
   "source": [
    "### Heavy Cleaning of Tweet Data with BERT\n",
    "\n",
    "Here, we test cleaning up our text data more heavily. We remove stopwords, punctuation, and other aspects of Tweets that might add too much noise to our model. We also lemmatize and stem our text."
   ]
  },
  {
   "cell_type": "code",
   "execution_count": 26,
   "id": "36db16e3-c199-4785-bbe1-32067814a6ae",
   "metadata": {},
   "outputs": [
    {
     "data": {
      "text/plain": [
       "<torch._C.Generator at 0x7f7b2024b9f0>"
      ]
     },
     "execution_count": 26,
     "metadata": {},
     "output_type": "execute_result"
    }
   ],
   "source": [
    "import pandas as pd\n",
    "import numpy as np\n",
    "import matplotlib.pyplot as plt\n",
    "import seaborn as sns\n",
    "from tqdm import tqdm\n",
    "from sklearn.svm import SVC\n",
    "from sklearn import feature_extraction, preprocessing, linear_model, decomposition, model_selection, metrics, pipeline\n",
    "from sklearn.model_selection import GridSearchCV\n",
    "from sklearn.preprocessing import MinMaxScaler\n",
    "from sklearn.metrics import confusion_matrix\n",
    "from sklearn.metrics import plot_confusion_matrix\n",
    "from sklearn.metrics import classification_report\n",
    "from sklearn.metrics import accuracy_score\n",
    "from sklearn.metrics import roc_curve\n",
    "from sklearn.metrics import auc\n",
    "from sklearn.feature_extraction.text import TfidfVectorizer, CountVectorizer\n",
    "from sklearn.decomposition import TruncatedSVD\n",
    "from sklearn.linear_model import LogisticRegression\n",
    "from sklearn.model_selection import train_test_split\n",
    "from nltk import word_tokenize\n",
    "from pandas_profiling import ProfileReport\n",
    "import scikitplot as skplt\n",
    "import string\n",
    "import random\n",
    "import re\n",
    "import nltk\n",
    "from nltk.tokenize import word_tokenize\n",
    "from nltk.stem import WordNetLemmatizer \n",
    "from nltk.corpus import stopwords\n",
    "from nltk.sentiment import SentimentIntensityAnalyzer\n",
    "from wordcloud import WordCloud, STOPWORDS\n",
    "import transformers\n",
    "from transformers import BertModel, BertTokenizer, TFBertModel, TFBertForSequenceClassification, BertConfig, AdamW, get_linear_schedule_with_warmup\n",
    "import torch\n",
    "import tensorflow as tf\n",
    "import tensorflow_hub as hub\n",
    "from tensorflow import keras\n",
    "from tensorflow.keras.optimizers import SGD, Adam\n",
    "from tensorflow.keras.layers import Input, Embedding, LSTM, GRU, Bidirectional, Dense, Dropout, Conv1D, GlobalMaxPool1D\n",
    "from tensorflow.keras.models import Model, Sequential\n",
    "from tensorflow.keras.callbacks import ModelCheckpoint, EarlyStopping, Callback\n",
    "from tensorflow.keras.preprocessing.text import Tokenizer\n",
    "from tensorflow.keras.preprocessing.sequence import pad_sequences\n",
    "import bert\n",
    "import sys\n",
    "import os\n",
    "sys.path.append('../utility')\n",
    "import utils\n",
    "\n",
    "# seaborn settings\n",
    "sns.set_theme(style=\"whitegrid\")\n",
    "np.random.seed(1)\n",
    "torch.manual_seed(1)"
   ]
  },
  {
   "cell_type": "code",
   "execution_count": 3,
   "id": "443c022c-f56d-4a89-90c3-b146015134ac",
   "metadata": {},
   "outputs": [],
   "source": [
    "# download pickles\n",
    "train_df = pd.read_pickle(\"../data/pickles/clean_train_data.pkl\")\n",
    "test_df = pd.read_pickle(\"../data/pickles/clean_test_data.pkl\")"
   ]
  },
  {
   "cell_type": "markdown",
   "id": "108f2bdb-ca22-468d-94e8-9f82937e2898",
   "metadata": {},
   "source": [
    "### Heavy Text Cleaning\n",
    "\n",
    "We clean up the text a lot here."
   ]
  },
  {
   "cell_type": "code",
   "execution_count": 12,
   "id": "c53123c4-94e5-4cdf-b877-53ea52619881",
   "metadata": {},
   "outputs": [],
   "source": [
    "# function taken and modified \n",
    "# from https://towardsdatascience.com/cleaning-text-data-with-python-b69b47b97b76\n",
    "\n",
    "stopwords = set(STOPWORDS)\n",
    "stopwords.update([\"nan\"])\n",
    "\n",
    "def heavy_text_clean(x):\n",
    "    # first we lowercase everything\n",
    "    x = x.lower()\n",
    "    x = ' '.join([word for word in x.split(' ') if word not in stopwords])\n",
    "    # remove unicode characters\n",
    "    x = x.encode('ascii', 'ignore').decode()\n",
    "    x = re.sub(r'https*\\S+', ' ', x)\n",
    "    x = re.sub(r'http*\\S+', ' ', x)\n",
    "    # then use regex to remove @ symbols and hashtags\n",
    "    x = re.sub(r'@\\S', '', x)\n",
    "    x = re.sub(r'#\\S+', ' ', x)\n",
    "    x = re.sub(r'\\'\\w+', '', x)\n",
    "    x = re.sub('[%s]' % re.escape(string.punctuation), ' ', x)\n",
    "    x = re.sub(r'\\w*\\d+\\w*', '', x)\n",
    "    x = re.sub(r'\\s{2,}', ' ', x)\n",
    "    x = re.sub(r'\\s[^\\w\\s]\\s', '', x)\n",
    "    # remove single letters and numbers surrounded by space\n",
    "    x = re.sub(r'\\s[a-z]\\s|\\s[0-9]\\s', ' ', x)\n",
    "    return x"
   ]
  },
  {
   "cell_type": "code",
   "execution_count": 13,
   "id": "1c31a508-5780-443d-907c-5bf4c1481e3a",
   "metadata": {},
   "outputs": [],
   "source": [
    "train_df['cleaned_text'] = train_df.text.apply(heavy_text_clean)\n",
    "test_df['cleaned_text'] = test_df.text.apply(heavy_text_clean)"
   ]
  },
  {
   "cell_type": "code",
   "execution_count": 14,
   "id": "d8618329-24cf-4f2e-a441-709d8a82ff38",
   "metadata": {},
   "outputs": [
    {
     "data": {
      "text/plain": [
       "['random wind gust came probably convection outflow heard thunder yet spits rain ',\n",
       " 'hiroshima survivors fight nuclear industry brazil video ',\n",
       " 'forever drowning feelings ',\n",
       " 'spot flood combo curved cree led work light bar offroad fog lamp full re ',\n",
       " 'dlh issues hazardous weather outlook hwo ',\n",
       " 'going redo nails watch behind scenes desolation smaug ayyy',\n",
       " 'prediction vikings game sunday dont expect whole lot infact think zimmer goal is injury free game',\n",
       " 'urnedonfetaboo check preview laytonbryant danger zone coming soon ',\n",
       " 'tacedemon oh shit ',\n",
       " 'us navy sidelines newest subs defensenews comus navy sidelines newest subsd ',\n",
       " ' olap pres recognize hazardous waste multidimensional ',\n",
       " 'tomorrow kick weekend drinks amp entertainment ',\n",
       " 'exquisite asian sto ',\n",
       " ' times national emergency ',\n",
       " 'fema center disaster preparedness weeklong training chemical biological radioactive nuclear emergency response',\n",
       " 'pic blaze fort kids look jackass stuffin face ',\n",
       " 'hail shadow hybrid mix feat mike szuter outube ',\n",
       " 'love god fear hell',\n",
       " 'new roof hardy up windstorm inspection tomorrow ',\n",
       " 'im getting car wow sunk']"
      ]
     },
     "execution_count": 14,
     "metadata": {},
     "output_type": "execute_result"
    }
   ],
   "source": [
    "list(train_df['cleaned_text'].sample(20))"
   ]
  },
  {
   "cell_type": "markdown",
   "id": "e9297261-3cd6-44e0-ac50-8d49b905fa61",
   "metadata": {},
   "source": [
    "**Separating text and non-text columns:**"
   ]
  },
  {
   "cell_type": "code",
   "execution_count": 17,
   "id": "822f68ad-88b4-41e5-bfb9-a70de14df64b",
   "metadata": {},
   "outputs": [],
   "source": [
    "# create final dfs without text col\n",
    "final_train_df = train_df.drop(columns=['text', 'id'])\n",
    "final_test_df = test_df.drop(columns=['text', 'id'])"
   ]
  },
  {
   "cell_type": "code",
   "execution_count": 18,
   "id": "6b3932f1-4cfb-4349-a083-8c3f1696ee97",
   "metadata": {},
   "outputs": [],
   "source": [
    "# save labels\n",
    "train_labels = final_train_df['target']"
   ]
  },
  {
   "cell_type": "code",
   "execution_count": 19,
   "id": "eb8f9941-a411-4c8a-8ef2-7fa86c7cb818",
   "metadata": {},
   "outputs": [],
   "source": [
    "# separate clean text\n",
    "train_text = final_train_df['cleaned_text']\n",
    "test_text = final_test_df['cleaned_text']"
   ]
  },
  {
   "cell_type": "markdown",
   "id": "1f73d042-6a5d-4de6-b6c7-f77474d681d2",
   "metadata": {},
   "source": [
    "### Lemmatization"
   ]
  },
  {
   "cell_type": "code",
   "execution_count": 28,
   "id": "7b06ba35-58b4-4c4b-accf-509278ed784c",
   "metadata": {},
   "outputs": [
    {
     "name": "stderr",
     "output_type": "stream",
     "text": [
      "[nltk_data] Downloading package punkt to\n",
      "[nltk_data]     /Users/alexanderbricken/nltk_data...\n",
      "[nltk_data]   Package punkt is already up-to-date!\n",
      "[nltk_data] Downloading package wordnet to\n",
      "[nltk_data]     /Users/alexanderbricken/nltk_data...\n",
      "[nltk_data]   Unzipping corpora/wordnet.zip.\n"
     ]
    },
    {
     "data": {
      "text/plain": [
       "True"
      ]
     },
     "execution_count": 28,
     "metadata": {},
     "output_type": "execute_result"
    }
   ],
   "source": [
    "nltk.download('punkt')\n",
    "nltk.download('wordnet')"
   ]
  },
  {
   "cell_type": "code",
   "execution_count": 31,
   "id": "0396d794-74a7-47f4-9b6e-f883fdcb3bc2",
   "metadata": {},
   "outputs": [],
   "source": [
    "train_list = []\n",
    "for word in train_text:\n",
    "    tokens = word_tokenize(word)\n",
    "    lemmatizer = WordNetLemmatizer()\n",
    "    lemmatized = [lemmatizer.lemmatize(word) for word in tokens]\n",
    "    train_list.append(' '.join(lemmatized))\n",
    "\n",
    "test_list = []\n",
    "for word in test_text:\n",
    "    tokens = word_tokenize(word)\n",
    "    lemmatizer = WordNetLemmatizer()\n",
    "    lemmatized = [lemmatizer.lemmatize(word) for word in tokens]\n",
    "    test_list.append(' '.join(lemmatized))"
   ]
  },
  {
   "cell_type": "markdown",
   "id": "1fad6e2c-56d1-40ed-b972-fc70905692b9",
   "metadata": {},
   "source": [
    "### Tokenization"
   ]
  },
  {
   "cell_type": "markdown",
   "id": "487a49ea-d5df-49cc-bcaa-cccb343f3e41",
   "metadata": {},
   "source": [
    "I perform tokenization here as a basic way of including the data of my text into the machine learning model.\n",
    "\n",
    "Tokenization separates a piece of text into tokens. These tokens are words. It allows the text data to be turned into numbers that the machine learning model can read."
   ]
  },
  {
   "cell_type": "markdown",
   "id": "3b01b94b-0c73-42d5-b9bb-b97e7fea35d2",
   "metadata": {},
   "source": [
    "**For `cleaned_text` column, we tokenise using BertTokenizer:**"
   ]
  },
  {
   "cell_type": "code",
   "execution_count": 32,
   "id": "2327f1db-31ef-4477-9042-be2e91cec471",
   "metadata": {},
   "outputs": [],
   "source": [
    "# we use a pre-trained bert model to tokenize the text\n",
    "PRE_TRAINED_MODEL_NAME = 'bert-base-uncased'\n",
    "tokenizer = BertTokenizer.from_pretrained(PRE_TRAINED_MODEL_NAME)"
   ]
  },
  {
   "cell_type": "markdown",
   "id": "0a193805-68c3-4882-8e2c-101198ce8ad3",
   "metadata": {},
   "source": [
    "To start with, because BERT works with fixed-length sequences, we need to choose the maximum length of the sequences to best represent the model. By storing the length of each Tweet, we can do this and evaluate the coverage."
   ]
  },
  {
   "cell_type": "code",
   "execution_count": 33,
   "id": "afcf1346-b6d7-4f63-97bd-17493ade5dfb",
   "metadata": {},
   "outputs": [],
   "source": [
    "token_lens = []\n",
    "for txt in list(train_list):\n",
    "    tokens = tokenizer.encode(txt, max_length=512, truncation=True)\n",
    "    token_lens.append(len(tokens))"
   ]
  },
  {
   "cell_type": "code",
   "execution_count": 34,
   "id": "374de590-6dde-4568-8de5-6797bf90bd28",
   "metadata": {},
   "outputs": [
    {
     "data": {
      "image/png": "[encoded data removed]",
      "text/plain": [
       "<Figure size 360x360 with 1 Axes>"
      ]
     },
     "metadata": {},
     "output_type": "display_data"
    }
   ],
   "source": [
    "sns.displot(token_lens)\n",
    "plt.xlim([0, 100])\n",
    "plt.xlabel('Token count')\n",
    "plt.show()"
   ]
  },
  {
   "cell_type": "markdown",
   "id": "c39f5948-7bdb-4ad0-a541-3b63b0896e26",
   "metadata": {},
   "source": [
    "From this plot, we see the density drops off beyond 40. We set max_length to 40."
   ]
  },
  {
   "cell_type": "code",
   "execution_count": 35,
   "id": "eba9beef-5b2e-4fc5-ae37-ade1351194f3",
   "metadata": {},
   "outputs": [],
   "source": [
    "def bert_tokenizer(text):\n",
    "    encoding = tokenizer.encode_plus(\n",
    "    text,\n",
    "    max_length=40,\n",
    "    truncation=True,\n",
    "    add_special_tokens=True, # Add '[CLS]' and '[SEP]'\n",
    "    return_token_type_ids=False,\n",
    "    pad_to_max_length=True,\n",
    "    padding='max_length',\n",
    "    return_attention_mask=True,\n",
    "    return_tensors='pt',  # Return PyTorch tensors\n",
    "    )\n",
    "    return encoding['input_ids'][0], encoding['attention_mask'][0]"
   ]
  },
  {
   "cell_type": "code",
   "execution_count": 36,
   "id": "f67021f8-671b-4bb6-ab3e-f201bf6c277b",
   "metadata": {},
   "outputs": [
    {
     "name": "stderr",
     "output_type": "stream",
     "text": [
      "/usr/local/Caskroom/miniconda/base/envs/pygen/lib/python3.8/site-packages/transformers/tokenization_utils_base.py:2212: FutureWarning: The `pad_to_max_length` argument is deprecated and will be removed in a future version, use `padding=True` or `padding='longest'` to pad to the longest sequence in the batch, or use `padding='max_length'` to pad to a max length. In this case, you can give a specific length with `max_length` (e.g. `max_length=45`) or leave max_length to None to pad to the maximal input size of the model (e.g. 512 for Bert).\n",
      "  warnings.warn(\n"
     ]
    }
   ],
   "source": [
    "max_length=40\n",
    "# train data tokenization\n",
    "train_tokenized_list = []\n",
    "train_attn_mask_list = []\n",
    "for text in list(train_list):\n",
    "    tokenized_text, attn_mask = bert_tokenizer(text)\n",
    "    train_tokenized_list.append(tokenized_text.numpy())\n",
    "    train_attn_mask_list.append(attn_mask.numpy())"
   ]
  },
  {
   "cell_type": "code",
   "execution_count": 37,
   "id": "ba659439-c3cd-4688-be6c-801406e7ffb6",
   "metadata": {},
   "outputs": [],
   "source": [
    "# test data tokenization\n",
    "test_tokenized_list = []\n",
    "test_attn_mask_list = []\n",
    "for text in list(test_list):\n",
    "    tokenized_text, attn_mask = bert_tokenizer(text)\n",
    "    test_tokenized_list.append(tokenized_text.numpy())\n",
    "    test_attn_mask_list.append(attn_mask.numpy())"
   ]
  },
  {
   "cell_type": "code",
   "execution_count": 38,
   "id": "5fd10d30-4410-44bd-917f-21f194dfcfd4",
   "metadata": {},
   "outputs": [],
   "source": [
    "train_tokenised_text_df = pd.DataFrame(train_tokenized_list)\n",
    "test_tokenised_text_df = pd.DataFrame(test_tokenized_list)"
   ]
  },
  {
   "cell_type": "markdown",
   "id": "dda7f7c6-b5cf-4861-879c-7e9f393a465c",
   "metadata": {},
   "source": [
    "Train test split:"
   ]
  },
  {
   "cell_type": "code",
   "execution_count": 41,
   "id": "2e11163c-d46d-4bee-ac9e-30501e8f2f54",
   "metadata": {},
   "outputs": [],
   "source": [
    "# train test split\n",
    "X_train, X_test, y_train, y_test, train_mask, val_mask = train_test_split(train_tokenised_text_df, train_labels, train_attn_mask_list, test_size=0.3, random_state=42)"
   ]
  },
  {
   "cell_type": "markdown",
   "id": "a97dd27b-38da-4582-b190-37e402d3623f",
   "metadata": {},
   "source": [
    "### BERT Modelling"
   ]
  },
  {
   "cell_type": "code",
   "execution_count": 42,
   "id": "c12c62bc-2b36-43c8-882a-5da58a27c176",
   "metadata": {},
   "outputs": [],
   "source": [
    "num_classes = len(train_labels.unique())"
   ]
  },
  {
   "cell_type": "code",
   "execution_count": 43,
   "id": "387484f4-ac10-4333-b39d-83eff22a1f36",
   "metadata": {},
   "outputs": [
    {
     "name": "stderr",
     "output_type": "stream",
     "text": [
      "All model checkpoint layers were used when initializing TFBertForSequenceClassification.\n",
      "\n",
      "Some layers of TFBertForSequenceClassification were not initialized from the model checkpoint at bert-base-uncased and are newly initialized: ['classifier']\n",
      "You should probably TRAIN this model on a down-stream task to be able to use it for predictions and inference.\n"
     ]
    },
    {
     "name": "stdout",
     "output_type": "stream",
     "text": [
      "Model: \"tf_bert_for_sequence_classification\"\n",
      "_________________________________________________________________\n",
      "Layer (type)                 Output Shape              Param #   \n",
      "=================================================================\n",
      "bert (TFBertMainLayer)       multiple                  109482240 \n",
      "_________________________________________________________________\n",
      "dropout_37 (Dropout)         multiple                  0         \n",
      "_________________________________________________________________\n",
      "classifier (Dense)           multiple                  1538      \n",
      "=================================================================\n",
      "Total params: 109,483,778\n",
      "Trainable params: 109,483,778\n",
      "Non-trainable params: 0\n",
      "_________________________________________________________________\n",
      "\n",
      "Bert Model None\n"
     ]
    }
   ],
   "source": [
    "bert_model = TFBertForSequenceClassification.from_pretrained('bert-base-uncased', num_labels=num_classes)\n",
    "\n",
    "checkpoint_path = \"../models/heavy_tf_bert.ckpt\"\n",
    "checkpoint_dir = os.path.dirname(checkpoint_path)\n",
    "\n",
    "model_callback = tf.keras.callbacks.ModelCheckpoint(filepath=checkpoint_path,\n",
    "                                                 save_weights_only=True,\n",
    "                                                 verbose=1)\n",
    "\n",
    "print('\\nBert Model', bert_model.summary())\n",
    "\n",
    "loss = tf.keras.losses.SparseCategoricalCrossentropy(from_logits=True)\n",
    "metric = tf.keras.metrics.SparseCategoricalAccuracy('accuracy')\n",
    "optimizer = tf.keras.optimizers.Adam(learning_rate=2e-5,epsilon=1e-08)\n",
    "\n",
    "bert_model.compile(loss=loss,optimizer=optimizer,metrics=[metric])"
   ]
  },
  {
   "cell_type": "code",
   "execution_count": 44,
   "id": "63d79385-b2c6-4e75-957b-279567758e81",
   "metadata": {},
   "outputs": [
    {
     "name": "stdout",
     "output_type": "stream",
     "text": [
      "Epoch 1/4\n",
      "163/163 [==============================] - 1185s 7s/step - loss: 0.5604 - accuracy: 0.7120 - val_loss: 0.4436 - val_accuracy: 0.8125\n",
      "\n",
      "Epoch 00001: saving model to ../models/heavy_tf_bert.ckpt\n",
      "Epoch 2/4\n",
      "163/163 [==============================] - 1394s 9s/step - loss: 0.3808 - accuracy: 0.8387 - val_loss: 0.4234 - val_accuracy: 0.8116\n",
      "\n",
      "Epoch 00002: saving model to ../models/heavy_tf_bert.ckpt\n",
      "Epoch 3/4\n",
      "163/163 [==============================] - 1059s 7s/step - loss: 0.2795 - accuracy: 0.8959 - val_loss: 0.4849 - val_accuracy: 0.8125\n",
      "\n",
      "Epoch 00003: saving model to ../models/heavy_tf_bert.ckpt\n",
      "Epoch 4/4\n",
      "163/163 [==============================] - 1125s 7s/step - loss: 0.1951 - accuracy: 0.9276 - val_loss: 0.5546 - val_accuracy: 0.7982\n",
      "\n",
      "Epoch 00004: saving model to ../models/heavy_tf_bert.ckpt\n"
     ]
    }
   ],
   "source": [
    "history=bert_model.fit(X_train,\n",
    "                       y_train,\n",
    "                       batch_size=32,\n",
    "                       epochs=3,\n",
    "                       validation_data=(X_test, y_test),\n",
    "                       callbacks=[model_callback])"
   ]
  },
  {
   "cell_type": "code",
   "execution_count": 45,
   "id": "88822ed1-db79-4b06-a0a0-e1b7fc491edf",
   "metadata": {},
   "outputs": [
    {
     "data": {
      "image/png": "[encoded data removed]",
      "text/plain": [
       "<Figure size 1152x720 with 1 Axes>"
      ]
     },
     "metadata": {},
     "output_type": "display_data"
    }
   ],
   "source": [
    "plt.figure(figsize=(16, 10))\n",
    "plt.plot(history.history['accuracy'])\n",
    "plt.plot(history.history['val_accuracy'])\n",
    "plt.title('model accuracy')\n",
    "plt.ylabel('accuracy')\n",
    "plt.xlabel('epoch')\n",
    "plt.legend(['train', 'val'], loc='upper left')\n",
    "plt.show()"
   ]
  },
  {
   "cell_type": "code",
   "execution_count": 46,
   "id": "b9118548-52ba-4541-8206-b551b7912b86",
   "metadata": {},
   "outputs": [
    {
     "data": {
      "image/png": "[encoded data removed]",
      "text/plain": [
       "<Figure size 1152x720 with 1 Axes>"
      ]
     },
     "metadata": {},
     "output_type": "display_data"
    }
   ],
   "source": [
    "plt.figure(figsize=(16, 10))\n",
    "plt.plot(history.history['loss'])\n",
    "plt.plot(history.history['val_loss'])\n",
    "plt.title('model loss')\n",
    "plt.ylabel('loss')\n",
    "plt.xlabel('epoch')\n",
    "plt.legend(['train', 'val'], loc='upper left')\n",
    "plt.show()"
   ]
  },
  {
   "cell_type": "code",
   "execution_count": 47,
   "id": "2f46a4bf-fe10-4333-8eb4-7a7ab2a0c998",
   "metadata": {},
   "outputs": [
    {
     "name": "stdout",
     "output_type": "stream",
     "text": [
      "TFSequenceClassifierOutput(loss=None, logits=array([[ 0.6281244 ,  0.03926373],\n",
      "       [-2.5908704 ,  3.3014367 ],\n",
      "       [-2.507111  ,  3.1020675 ],\n",
      "       ...,\n",
      "       [-2.230495  ,  2.9059587 ],\n",
      "       [ 1.1992594 , -0.68467104],\n",
      "       [ 0.3820081 , -0.05092692]], dtype=float32), hidden_states=None, attentions=None)\n"
     ]
    }
   ],
   "source": [
    "# predictions\n",
    "test_pred = bert_model.predict(X_test)\n",
    "print(test_pred)"
   ]
  },
  {
   "cell_type": "code",
   "execution_count": 49,
   "id": "5180d488-bac7-4723-84a4-a8fb22e7f9f9",
   "metadata": {},
   "outputs": [
    {
     "name": "stdout",
     "output_type": "stream",
     "text": [
      "tf.Tensor(\n",
      "[[0.6431037  0.3568963 ]\n",
      " [0.002753   0.997247  ]\n",
      " [0.0036507  0.9963492 ]\n",
      " ...\n",
      " [0.00584415 0.9941559 ]\n",
      " [0.86806196 0.13193807]\n",
      " [0.6065743  0.39342567]], shape=(2235, 2), dtype=float32)\n"
     ]
    }
   ],
   "source": [
    "tensor_test_predictions = tf.math.softmax(test_pred.logits, axis=1)\n",
    "print(tensor_test_predictions)"
   ]
  },
  {
   "cell_type": "code",
   "execution_count": 50,
   "id": "55591e81-477c-4c86-89c7-5163d89d56cf",
   "metadata": {},
   "outputs": [],
   "source": [
    "test_predictions = [list(bert_model.config.id2label.keys())[i] for i in tf.math.argmax(tensor_test_predictions, axis=1).numpy()]"
   ]
  },
  {
   "cell_type": "code",
   "execution_count": 53,
   "id": "b7faf08b-5840-4e37-8937-886804cca668",
   "metadata": {},
   "outputs": [],
   "source": [
    "# model test function\n",
    "def eval_model(predictions):\n",
    "    print(accuracy_score(y_test, predictions))\n",
    "    # Compute fpr, tpr, thresholds and roc auc\n",
    "    fpr, tpr, thresholds = roc_curve(np.array(y_test), np.array(predictions))\n",
    "    roc_auc = auc(fpr, tpr)\n",
    "\n",
    "    # Plot ROC curve\n",
    "    plt.plot(fpr, tpr, label='ROC curve (area = %0.3f)' % roc_auc)\n",
    "    plt.plot([0, 1], [0, 1], 'k--')  # random predictions curve\n",
    "    plt.xlim([0.0, 1.0])\n",
    "    plt.ylim([0.0, 1.0])\n",
    "    plt.xlabel('False Positive Rate or (1 - Specifity)')\n",
    "    plt.ylabel('True Positive Rate or (Sensitivity)')\n",
    "    plt.title('Receiver Operating Characteristic')\n",
    "    plt.legend(loc=\"lower right\")\n",
    "    plt.show()\n",
    "    print(classification_report(y_test, np.array(predictions), target_names=[\"not disaster\", \"disaster\"]))"
   ]
  },
  {
   "cell_type": "code",
   "execution_count": 54,
   "id": "622a112d-ca9d-4e2a-af6e-715fee61bded",
   "metadata": {},
   "outputs": [
    {
     "name": "stdout",
     "output_type": "stream",
     "text": [
      "0.7982102908277405\n"
     ]
    },
    {
     "data": {
      "image/png": "[encoded data removed]",
      "text/plain": [
       "<Figure size 432x288 with 1 Axes>"
      ]
     },
     "metadata": {},
     "output_type": "display_data"
    },
    {
     "name": "stdout",
     "output_type": "stream",
     "text": [
      "              precision    recall  f1-score   support\n",
      "\n",
      "not disaster       0.83      0.82      0.82      1271\n",
      "    disaster       0.76      0.77      0.77       964\n",
      "\n",
      "    accuracy                           0.80      2235\n",
      "   macro avg       0.79      0.80      0.79      2235\n",
      "weighted avg       0.80      0.80      0.80      2235\n",
      "\n"
     ]
    }
   ],
   "source": [
    "eval_model(test_predictions)"
   ]
  },
  {
   "cell_type": "code",
   "execution_count": 55,
   "id": "9edb55dd-77a1-4b1b-abaa-e243a3f48122",
   "metadata": {},
   "outputs": [
    {
     "name": "stdout",
     "output_type": "stream",
     "text": [
      "TFSequenceClassifierOutput(loss=None, logits=array([[-2.1812344 ,  2.9606643 ],\n",
      "       [-2.2648401 ,  3.0513053 ],\n",
      "       [-2.5469935 ,  3.1600428 ],\n",
      "       ...,\n",
      "       [-2.4530554 ,  2.8623812 ],\n",
      "       [-0.2587128 ,  1.0612705 ],\n",
      "       [-0.23680165,  0.74996585]], dtype=float32), hidden_states=None, attentions=None)\n"
     ]
    }
   ],
   "source": [
    "# actual test predictions\n",
    "real_pred = bert_model.predict(test_tokenised_text_df)\n",
    "print(real_pred)"
   ]
  },
  {
   "cell_type": "code",
   "execution_count": 56,
   "id": "dbaf27c9-928f-40d7-a88e-152d263b5bad",
   "metadata": {},
   "outputs": [
    {
     "name": "stdout",
     "output_type": "stream",
     "text": [
      "tf.Tensor(\n",
      "[[0.00581259 0.99418736]\n",
      " [0.00488764 0.99511236]\n",
      " [0.0033115  0.99668854]\n",
      " ...\n",
      " [0.00489109 0.9951089 ]\n",
      " [0.21082109 0.7891789 ]\n",
      " [0.271551   0.728449  ]], shape=(3263, 2), dtype=float32)\n"
     ]
    }
   ],
   "source": [
    "real_tensor_predictions = tf.math.softmax(real_pred.logits, axis=1)\n",
    "print(real_tensor_predictions)"
   ]
  },
  {
   "cell_type": "code",
   "execution_count": 349,
   "id": "8f7e331a-e306-4430-ae7f-3fc341231564",
   "metadata": {},
   "outputs": [],
   "source": [
    "# use argmax function to label\n",
    "real_predictions = [list(bert_model.config.id2label.keys())[i] for i in tf.math.argmax(real_tensor_predictions, axis=1).numpy()]"
   ]
  },
  {
   "cell_type": "markdown",
   "id": "db461fec-cf1b-42e9-ada4-b09259764614",
   "metadata": {},
   "source": [
    "### Preparing Kaggle Submission"
   ]
  },
  {
   "cell_type": "markdown",
   "id": "789a773a-2b7b-4dbc-9fe6-6628d2ed1b62",
   "metadata": {},
   "source": [
    "All we need to do now is turn our output probabilities of our machine learning model into boolean values and submit the predictions!"
   ]
  },
  {
   "cell_type": "code",
   "execution_count": null,
   "id": "6c52fd3a-4e4e-45ea-a4cf-fe346a1f701e",
   "metadata": {},
   "outputs": [],
   "source": [
    "utils.kaggle_submit(real_predictions, 'submission4.csv')"
   ]
  },
  {
   "cell_type": "markdown",
   "id": "98c346d7-c700-4628-aa30-da793da27bec",
   "metadata": {},
   "source": [
    "To submit, we use the Kaggle API and type the following:\n",
    "\n",
    "`kaggle competitions submit -c nlp-getting-started -f submission.csv -m \"Message\"`"
   ]
  }
 ],
 "metadata": {
  "kernelspec": {
   "display_name": "Python 3",
   "language": "python",
   "name": "python3"
  },
  "language_info": {
   "codemirror_mode": {
    "name": "ipython",
    "version": 3
   },
   "file_extension": ".py",
   "mimetype": "text/x-python",
   "name": "python",
   "nbconvert_exporter": "python",
   "pygments_lexer": "ipython3",
   "version": "3.8.8"
  }
 },
 "nbformat": 4,
 "nbformat_minor": 5
}
